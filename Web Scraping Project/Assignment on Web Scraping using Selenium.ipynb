{
 "cells": [
  {
   "cell_type": "code",
   "execution_count": 68,
   "id": "80bf80e3",
   "metadata": {},
   "outputs": [],
   "source": [
    "import pandas as pd\n",
    "import selenium\n",
    "from selenium import webdriver\n",
    "import time\n",
    "from selenium.common.exceptions import StaleElementReferenceException, NoSuchElementException\n",
    "import requests\n",
    "from selenium.webdriver.common.by import By\n",
    "from selenium.webdriver.common.keys import Keys"
   ]
  },
  {
   "cell_type": "code",
   "execution_count": 69,
   "id": "b7e84f46",
   "metadata": {},
   "outputs": [],
   "source": [
    "driver = webdriver.Chrome()"
   ]
  },
  {
   "cell_type": "code",
   "execution_count": 70,
   "id": "63e0ac85",
   "metadata": {},
   "outputs": [],
   "source": [
    "url= driver.get('https://amazon.in')"
   ]
  },
  {
   "cell_type": "code",
   "execution_count": 71,
   "id": "04faa4cd",
   "metadata": {},
   "outputs": [],
   "source": [
    "driver.maximize_window()"
   ]
  },
  {
   "cell_type": "code",
   "execution_count": 72,
   "id": "6a80e29b",
   "metadata": {},
   "outputs": [],
   "source": [
    "driver.implicitly_wait(10)"
   ]
  },
  {
   "cell_type": "code",
   "execution_count": 73,
   "id": "2a89cc6c",
   "metadata": {},
   "outputs": [],
   "source": [
    "search=driver.find_element(By.XPATH, \"//input[contains(@id, 'search')]\").send_keys('iphone mobiles')"
   ]
  },
  {
   "cell_type": "code",
   "execution_count": 76,
   "id": "671ac30b",
   "metadata": {},
   "outputs": [],
   "source": [
    "button= driver.find_element(By.XPATH, \"//input[contains(@id, 'nav-search-submit-button')]\").click()"
   ]
  },
  {
   "cell_type": "code",
   "execution_count": 78,
   "id": "eee98f05",
   "metadata": {},
   "outputs": [],
   "source": [
    "driver.find_element(By.XPATH, \"//span[text()='Apple']\").click()"
   ]
  },
  {
   "cell_type": "code",
   "execution_count": 79,
   "id": "b868d602",
   "metadata": {},
   "outputs": [],
   "source": [
    "mob_names= driver.find_elements(By.XPATH,\"//span[contains(@class, 'a-size-medium a-color-base a-text-normal')]\")"
   ]
  },
  {
   "cell_type": "code",
   "execution_count": 80,
   "id": "4322cc2c",
   "metadata": {},
   "outputs": [],
   "source": [
    "mob_price= driver.find_elements(By.XPATH, \"//span[contains(@class, 'a-price-whole')]\")"
   ]
  },
  {
   "cell_type": "code",
   "execution_count": 88,
   "id": "808aeb8d",
   "metadata": {},
   "outputs": [],
   "source": [
    "names=[]\n",
    "prices=[]\n",
    "for mobile in mob_names:\n",
    "    actual_txt= mobile.text\n",
    "    names.append(actual_txt)"
   ]
  },
  {
   "cell_type": "code",
   "execution_count": 89,
   "id": "f9f30223",
   "metadata": {},
   "outputs": [
    {
     "data": {
      "text/plain": [
       "['Apple iPhone 14 256GB Starlight',\n",
       " 'Apple iPhone 12 (128GB) - Black',\n",
       " 'Apple iPhone 12 Mini (128GB) - Black',\n",
       " 'Apple iPhone 14 Plus 256GB Blue',\n",
       " 'Apple iPhone 12 (64GB) - Black',\n",
       " 'Apple iPhone 12 (64GB) - Blue',\n",
       " 'Apple iPhone 12 Mini (128GB) - White',\n",
       " 'Apple iPhone 14 128GB (Product) RED',\n",
       " 'Apple iPhone 14 Plus 128GB Midnight',\n",
       " 'Apple iPhone 13 (256GB) - (Product) RED',\n",
       " 'Apple iPhone 14 Plus 128GB Starlight',\n",
       " 'Apple iPhone 12 (64GB) - White',\n",
       " 'Apple iPhone 12 (128GB) - White',\n",
       " 'Apple iPhone 12 (128GB) - Blue',\n",
       " 'Apple iPhone 14 Plus 256GB Midnight',\n",
       " 'Apple iPhone 12 (64GB) - (Product) RED',\n",
       " 'Apple iPhone 12 (256GB) - (Product) RED',\n",
       " 'Apple iPhone 12 (128GB) - (Product) RED',\n",
       " 'Apple iPhone 13 (256GB) - Pink',\n",
       " 'Apple iPhone 14 Plus 512GB Blue',\n",
       " 'Apple iPhone 13 (128GB) - (Product) RED',\n",
       " 'Apple iPhone 14 Plus 256GB Purple',\n",
       " 'Apple iPhone 14 128GB Starlight',\n",
       " 'Apple iPhone 13 Mini (256GB) - (Product) RED']"
      ]
     },
     "execution_count": 89,
     "metadata": {},
     "output_type": "execute_result"
    }
   ],
   "source": [
    "names"
   ]
  },
  {
   "cell_type": "code",
   "execution_count": 90,
   "id": "284199ee",
   "metadata": {},
   "outputs": [],
   "source": [
    "for cost in mob_price:\n",
    "    actual_cost= cost.text\n",
    "    prices.append(actual_cost)"
   ]
  },
  {
   "cell_type": "code",
   "execution_count": 91,
   "id": "fafc86e3",
   "metadata": {},
   "outputs": [
    {
     "data": {
      "text/plain": [
       "['88,810',\n",
       " '57,900',\n",
       " '45,999',\n",
       " '94,990',\n",
       " '55,999',\n",
       " '55,999',\n",
       " '45,999',\n",
       " '78,740',\n",
       " '88,560',\n",
       " '69,999',\n",
       " '88,490',\n",
       " '52,999',\n",
       " '57,900',\n",
       " '57,900',\n",
       " '98,530',\n",
       " '52,999',\n",
       " '60,900',\n",
       " '60,990',\n",
       " '79,900',\n",
       " '1,19,900',\n",
       " '65,999',\n",
       " '98,530',\n",
       " '78,810',\n",
       " '69,999']"
      ]
     },
     "execution_count": 91,
     "metadata": {},
     "output_type": "execute_result"
    }
   ],
   "source": [
    "prices"
   ]
  },
  {
   "cell_type": "code",
   "execution_count": 92,
   "id": "34cc7402",
   "metadata": {},
   "outputs": [
    {
     "data": {
      "text/html": [
       "<div>\n",
       "<style scoped>\n",
       "    .dataframe tbody tr th:only-of-type {\n",
       "        vertical-align: middle;\n",
       "    }\n",
       "\n",
       "    .dataframe tbody tr th {\n",
       "        vertical-align: top;\n",
       "    }\n",
       "\n",
       "    .dataframe thead th {\n",
       "        text-align: right;\n",
       "    }\n",
       "</style>\n",
       "<table border=\"1\" class=\"dataframe\">\n",
       "  <thead>\n",
       "    <tr style=\"text-align: right;\">\n",
       "      <th></th>\n",
       "      <th>Mobile Names</th>\n",
       "      <th>Mobile Prices</th>\n",
       "    </tr>\n",
       "  </thead>\n",
       "  <tbody>\n",
       "    <tr>\n",
       "      <th>0</th>\n",
       "      <td>Apple iPhone 14 256GB Starlight</td>\n",
       "      <td>88,810</td>\n",
       "    </tr>\n",
       "    <tr>\n",
       "      <th>1</th>\n",
       "      <td>Apple iPhone 12 (128GB) - Black</td>\n",
       "      <td>57,900</td>\n",
       "    </tr>\n",
       "    <tr>\n",
       "      <th>2</th>\n",
       "      <td>Apple iPhone 12 Mini (128GB) - Black</td>\n",
       "      <td>45,999</td>\n",
       "    </tr>\n",
       "    <tr>\n",
       "      <th>3</th>\n",
       "      <td>Apple iPhone 14 Plus 256GB Blue</td>\n",
       "      <td>94,990</td>\n",
       "    </tr>\n",
       "    <tr>\n",
       "      <th>4</th>\n",
       "      <td>Apple iPhone 12 (64GB) - Black</td>\n",
       "      <td>55,999</td>\n",
       "    </tr>\n",
       "    <tr>\n",
       "      <th>5</th>\n",
       "      <td>Apple iPhone 12 (64GB) - Blue</td>\n",
       "      <td>55,999</td>\n",
       "    </tr>\n",
       "    <tr>\n",
       "      <th>6</th>\n",
       "      <td>Apple iPhone 12 Mini (128GB) - White</td>\n",
       "      <td>45,999</td>\n",
       "    </tr>\n",
       "    <tr>\n",
       "      <th>7</th>\n",
       "      <td>Apple iPhone 14 128GB (Product) RED</td>\n",
       "      <td>78,740</td>\n",
       "    </tr>\n",
       "    <tr>\n",
       "      <th>8</th>\n",
       "      <td>Apple iPhone 14 Plus 128GB Midnight</td>\n",
       "      <td>88,560</td>\n",
       "    </tr>\n",
       "    <tr>\n",
       "      <th>9</th>\n",
       "      <td>Apple iPhone 13 (256GB) - (Product) RED</td>\n",
       "      <td>69,999</td>\n",
       "    </tr>\n",
       "    <tr>\n",
       "      <th>10</th>\n",
       "      <td>Apple iPhone 14 Plus 128GB Starlight</td>\n",
       "      <td>88,490</td>\n",
       "    </tr>\n",
       "    <tr>\n",
       "      <th>11</th>\n",
       "      <td>Apple iPhone 12 (64GB) - White</td>\n",
       "      <td>52,999</td>\n",
       "    </tr>\n",
       "    <tr>\n",
       "      <th>12</th>\n",
       "      <td>Apple iPhone 12 (128GB) - White</td>\n",
       "      <td>57,900</td>\n",
       "    </tr>\n",
       "    <tr>\n",
       "      <th>13</th>\n",
       "      <td>Apple iPhone 12 (128GB) - Blue</td>\n",
       "      <td>57,900</td>\n",
       "    </tr>\n",
       "    <tr>\n",
       "      <th>14</th>\n",
       "      <td>Apple iPhone 14 Plus 256GB Midnight</td>\n",
       "      <td>98,530</td>\n",
       "    </tr>\n",
       "    <tr>\n",
       "      <th>15</th>\n",
       "      <td>Apple iPhone 12 (64GB) - (Product) RED</td>\n",
       "      <td>52,999</td>\n",
       "    </tr>\n",
       "    <tr>\n",
       "      <th>16</th>\n",
       "      <td>Apple iPhone 12 (256GB) - (Product) RED</td>\n",
       "      <td>60,900</td>\n",
       "    </tr>\n",
       "    <tr>\n",
       "      <th>17</th>\n",
       "      <td>Apple iPhone 12 (128GB) - (Product) RED</td>\n",
       "      <td>60,990</td>\n",
       "    </tr>\n",
       "    <tr>\n",
       "      <th>18</th>\n",
       "      <td>Apple iPhone 13 (256GB) - Pink</td>\n",
       "      <td>79,900</td>\n",
       "    </tr>\n",
       "    <tr>\n",
       "      <th>19</th>\n",
       "      <td>Apple iPhone 14 Plus 512GB Blue</td>\n",
       "      <td>1,19,900</td>\n",
       "    </tr>\n",
       "    <tr>\n",
       "      <th>20</th>\n",
       "      <td>Apple iPhone 13 (128GB) - (Product) RED</td>\n",
       "      <td>65,999</td>\n",
       "    </tr>\n",
       "    <tr>\n",
       "      <th>21</th>\n",
       "      <td>Apple iPhone 14 Plus 256GB Purple</td>\n",
       "      <td>98,530</td>\n",
       "    </tr>\n",
       "    <tr>\n",
       "      <th>22</th>\n",
       "      <td>Apple iPhone 14 128GB Starlight</td>\n",
       "      <td>78,810</td>\n",
       "    </tr>\n",
       "    <tr>\n",
       "      <th>23</th>\n",
       "      <td>Apple iPhone 13 Mini (256GB) - (Product) RED</td>\n",
       "      <td>69,999</td>\n",
       "    </tr>\n",
       "  </tbody>\n",
       "</table>\n",
       "</div>"
      ],
      "text/plain": [
       "                                    Mobile Names Mobile Prices\n",
       "0                Apple iPhone 14 256GB Starlight        88,810\n",
       "1                Apple iPhone 12 (128GB) - Black        57,900\n",
       "2           Apple iPhone 12 Mini (128GB) - Black        45,999\n",
       "3                Apple iPhone 14 Plus 256GB Blue        94,990\n",
       "4                 Apple iPhone 12 (64GB) - Black        55,999\n",
       "5                  Apple iPhone 12 (64GB) - Blue        55,999\n",
       "6           Apple iPhone 12 Mini (128GB) - White        45,999\n",
       "7            Apple iPhone 14 128GB (Product) RED        78,740\n",
       "8            Apple iPhone 14 Plus 128GB Midnight        88,560\n",
       "9        Apple iPhone 13 (256GB) - (Product) RED        69,999\n",
       "10          Apple iPhone 14 Plus 128GB Starlight        88,490\n",
       "11                Apple iPhone 12 (64GB) - White        52,999\n",
       "12               Apple iPhone 12 (128GB) - White        57,900\n",
       "13                Apple iPhone 12 (128GB) - Blue        57,900\n",
       "14           Apple iPhone 14 Plus 256GB Midnight        98,530\n",
       "15        Apple iPhone 12 (64GB) - (Product) RED        52,999\n",
       "16       Apple iPhone 12 (256GB) - (Product) RED        60,900\n",
       "17       Apple iPhone 12 (128GB) - (Product) RED        60,990\n",
       "18                Apple iPhone 13 (256GB) - Pink        79,900\n",
       "19               Apple iPhone 14 Plus 512GB Blue      1,19,900\n",
       "20       Apple iPhone 13 (128GB) - (Product) RED        65,999\n",
       "21             Apple iPhone 14 Plus 256GB Purple        98,530\n",
       "22               Apple iPhone 14 128GB Starlight        78,810\n",
       "23  Apple iPhone 13 Mini (256GB) - (Product) RED        69,999"
      ]
     },
     "execution_count": 92,
     "metadata": {},
     "output_type": "execute_result"
    }
   ],
   "source": [
    "df= pd.DataFrame({'Mobile Names': names, 'Mobile Prices': prices})\n",
    "df"
   ]
  },
  {
   "cell_type": "code",
   "execution_count": null,
   "id": "176d05b8",
   "metadata": {},
   "outputs": [],
   "source": []
  }
 ],
 "metadata": {
  "kernelspec": {
   "display_name": "Python 3 (ipykernel)",
   "language": "python",
   "name": "python3"
  },
  "language_info": {
   "codemirror_mode": {
    "name": "ipython",
    "version": 3
   },
   "file_extension": ".py",
   "mimetype": "text/x-python",
   "name": "python",
   "nbconvert_exporter": "python",
   "pygments_lexer": "ipython3",
   "version": "3.9.13"
  }
 },
 "nbformat": 4,
 "nbformat_minor": 5
}
